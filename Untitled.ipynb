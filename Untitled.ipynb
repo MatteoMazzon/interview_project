{
 "cells": [
  {
   "cell_type": "code",
   "execution_count": 1,
   "id": "3d72aa64-9e82-4ee3-a46d-5231587a2dfc",
   "metadata": {},
   "outputs": [
    {
     "name": "stdout",
     "output_type": "stream",
     "text": [
      "Error reading the notebook: Notebook does not appear to be JSON: ''\n"
     ]
    }
   ],
   "source": [
    "import nbformat\n",
    "\n",
    "try:\n",
    "    with open('test_01.ipynb', 'r', encoding='utf-8') as f:\n",
    "        nb = nbformat.read(f, as_version=4)\n",
    "    # Write it back out to ensure proper formatting\n",
    "    with open('test_01_fixed.ipynb', 'w', encoding='utf-8') as f:\n",
    "        nbformat.write(nb, f)\n",
    "    print(\"Notebook has been fixed and saved as test_01_fixed.ipynb\")\n",
    "except Exception as e:\n",
    "    print(\"Error reading the notebook:\", e)\n"
   ]
  },
  {
   "cell_type": "code",
   "execution_count": null,
   "id": "1bc0b3fa-e172-4da8-ac25-034f6925a280",
   "metadata": {},
   "outputs": [],
   "source": []
  }
 ],
 "metadata": {
  "kernelspec": {
   "display_name": "Python 3 (ipykernel)",
   "language": "python",
   "name": "python3"
  },
  "language_info": {
   "codemirror_mode": {
    "name": "ipython",
    "version": 3
   },
   "file_extension": ".py",
   "mimetype": "text/x-python",
   "name": "python",
   "nbconvert_exporter": "python",
   "pygments_lexer": "ipython3",
   "version": "3.12.7"
  }
 },
 "nbformat": 4,
 "nbformat_minor": 5
}
