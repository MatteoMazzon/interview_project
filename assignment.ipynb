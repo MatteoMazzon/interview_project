{
 "cells": [
  {
   "cell_type": "markdown",
   "id": "6454fd36",
   "metadata": {},
   "source": [
    "## Assignment interview"
   ]
  },
  {
   "cell_type": "markdown",
   "id": "d15c6ece",
   "metadata": {},
   "source": [
    "### 1. Loading libraries"
   ]
  },
  {
   "cell_type": "code",
   "execution_count": 1,
   "id": "30ee4688",
   "metadata": {},
   "outputs": [],
   "source": [
    "import pandas as pd\n",
    "import numpy as np\n"
   ]
  },
  {
   "cell_type": "markdown",
   "id": "11ca218a",
   "metadata": {},
   "source": [
    "### 2. Loading the data"
   ]
  },
  {
   "cell_type": "code",
   "execution_count": 3,
   "id": "1bc0b3fa-e172-4da8-ac25-034f6925a280",
   "metadata": {},
   "outputs": [],
   "source": [
    "monthly_payment = pd.read_csv(\"Monthly_payments.csv\")"
   ]
  },
  {
   "cell_type": "code",
   "execution_count": null,
   "id": "19737d95",
   "metadata": {},
   "outputs": [],
   "source": []
  }
 ],
 "metadata": {
  "kernelspec": {
   "display_name": "myenv1",
   "language": "python",
   "name": "python3"
  },
  "language_info": {
   "codemirror_mode": {
    "name": "ipython",
    "version": 3
   },
   "file_extension": ".py",
   "mimetype": "text/x-python",
   "name": "python",
   "nbconvert_exporter": "python",
   "pygments_lexer": "ipython3",
   "version": "3.12.8"
  }
 },
 "nbformat": 4,
 "nbformat_minor": 5
}
